{
 "cells": [
  {
   "cell_type": "code",
   "execution_count": 2,
   "id": "692f0461-8b3c-4ced-9bf4-ef9e7d49d011",
   "metadata": {},
   "outputs": [
    {
     "name": "stdout",
     "output_type": "stream",
     "text": [
      "Ether / IP / UDP / DNS Qry b'kv601.prod.do.dsp.mp.microsoft.com.'\n",
      "Ether / IP / UDP / DNS Ans b'kv601.prod.do.dsp.mp.microsoft.com.edgekey.net.'\n",
      "Ether / ARP who has 192.168.44.1 says 192.168.44.14\n",
      "Ether / ARP is at 98:b0:8b:6a:43:7f says 192.168.44.1\n",
      "Ether / ARP who has 192.168.44.14 says 192.168.44.1\n",
      "Ether / ARP is at ac:50:de:60:24:b0 says 192.168.44.14\n",
      "Ether / IP / UDP / DNS Qry b'www.bing.com.'\n",
      "Ether / IP / UDP / DNS Ans b'www-www.bing.com.trafficmanager.net.'\n",
      "Ether / ARP who has 192.168.44.1 says 192.168.44.14\n",
      "Ether / ARP is at 98:b0:8b:6a:43:7f says 192.168.44.1\n",
      "Ether / ARP who has 192.168.44.14 says 192.168.44.1\n",
      "Ether / ARP is at ac:50:de:60:24:b0 says 192.168.44.14\n",
      "Ether / IP / UDP / DNS Qry b'edge.microsoft.com.'\n",
      "Ether / IP / UDP / DNS Ans b'edge-microsoft-com.dual-a-0036.a-msedge.net.'\n",
      "Ether / IP / UDP / DNS Qry b'api.aadrm.com.'\n",
      "Ether / IP / UDP / DNS Ans b'aadrm-com.b-0044.b-msedge.net.'\n",
      "Ether / IP / UDP / DNS Qry b'login.microsoftonline.com.'\n",
      "Ether / IP / UDP / DNS Ans b'login.mso.msidentity.com.'\n",
      "Ether / ARP who has 192.168.44.1 says 192.168.44.14\n",
      "Ether / ARP is at 98:b0:8b:6a:43:7f says 192.168.44.1\n",
      "Ether / ARP who has 192.168.44.14 says 192.168.44.1\n",
      "Ether / ARP is at ac:50:de:60:24:b0 says 192.168.44.14\n",
      "Ether / IP / UDP / DNS Qry b'www.bing.com.trafficmanager.net.'\n",
      "Ether / IP / UDP / DNS Qry b'www.bing.com.trafficmanager.net.'\n",
      "Ether / IP / UDP / DNS Ans name-error\n",
      "Ether / IP / UDP / DNS Qry b'substrate.office.com.'\n",
      "Ether / IP / UDP / DNS Ans b'outlook.office365.com.'\n",
      "Ether / ARP who has 192.168.44.1 says 192.168.44.14\n",
      "Ether / ARP is at 98:b0:8b:6a:43:7f says 192.168.44.1\n",
      "Ether / ARP who has 192.168.44.14 says 192.168.44.1\n",
      "Ether / ARP is at ac:50:de:60:24:b0 says 192.168.44.14\n",
      "Ether / IP / UDP / DNS Qry b'catalog.gamepass.com.'\n",
      "Ether / IP / UDP / DNS Ans b'catalog.gamepass.com.edgesuite.net.'\n",
      "Ether / ARP who has 192.168.44.1 says 192.168.44.14\n",
      "Ether / ARP is at 98:b0:8b:6a:43:7f says 192.168.44.1\n",
      "Ether / ARP who has 192.168.44.14 says 192.168.44.1\n",
      "Ether / ARP is at ac:50:de:60:24:b0 says 192.168.44.14\n",
      "Ether / IP / UDP / DNS Qry b'aefd.nelreports.net.'\n",
      "Ether / IP / UDP / DNS Ans b'aefd.nelreports.net.akamaized.net.'\n",
      "Ether / IP / UDP / DNS Qry b'ecs.office.com.'\n",
      "Ether / IP / UDP / DNS Ans b'ecs.office.trafficmanager.net.'\n",
      "Ether / ARP who has 192.168.44.1 says 192.168.44.14\n",
      "Ether / ARP is at 98:b0:8b:6a:43:7f says 192.168.44.1\n",
      "Ether / ARP who has 192.168.44.14 says 192.168.44.1\n",
      "Ether / ARP is at ac:50:de:60:24:b0 says 192.168.44.14\n",
      "Ether / IP / UDP / DNS Qry b'array605.prod.do.dsp.mp.microsoft.com.'\n",
      "Ether / IP / UDP / DNS Ans 13.74.139.29\n",
      "Ether / IP / UDP / DNS Qry b'kv601.prod.do.dsp.mp.microsoft.com.'\n",
      "Ether / IP / UDP / DNS Ans b'kv601.prod.do.dsp.mp.microsoft.com.edgekey.net.'\n",
      "Ether / IP / UDP / DNS Qry b'mobile.events.data.microsoft.com.'\n",
      "Ether / IP / UDP / DNS Ans b'mobile.events.data.trafficmanager.net.'\n",
      "Ether / ARP who has 192.168.44.1 says 192.168.44.14\n",
      "Ether / ARP is at 98:b0:8b:6a:43:7f says 192.168.44.1\n",
      "Ether / ARP who has 192.168.44.14 says 192.168.44.1\n",
      "Ether / ARP is at ac:50:de:60:24:b0 says 192.168.44.14\n",
      "Ether / IP / UDP / DNS Qry b'ctldl.windowsupdate.com.'\n",
      "Ether / IP / UDP / DNS Ans b'ctldl.windowsupdate.com.delivery.microsoft.com.'\n",
      "Ether / IP / UDP / NBTDatagram / SMB_Header / Tran b'\\\\MAILSLOT\\\\BROWSE' HostAnnouncement for b'CWK'\n",
      "Ether / IP / UDP / DNS Qry b'catalog.gamepass.com.'\n",
      "Ether / IP / UDP / DNS Ans b'catalog.gamepass.com.edgesuite.net.'\n",
      "Ether / ARP who has 192.168.44.1 says 192.168.44.14\n",
      "Ether / ARP is at 98:b0:8b:6a:43:7f says 192.168.44.1\n",
      "Ether / ARP who has 192.168.44.14 says 192.168.44.1\n",
      "Ether / ARP is at ac:50:de:60:24:b0 says 192.168.44.14\n",
      "Ether / IP / UDP / DNS Qry b'www.bing.com.trafficmanager.net.'\n",
      "Ether / IP / UDP / DNS Qry b'www.bing.com.trafficmanager.net.'\n",
      "Ether / IP / UDP / DNS Ans name-error\n",
      "Ether / IP / UDP / DNS Qry b'configuration-server-lb-1105093370.us-east-1.elb.amazonaws.com.'\n",
      "Ether / IP / UDP / DNS Ans 52.23.120.3\n",
      "Ether / ARP who has 192.168.44.1 says 192.168.44.14\n",
      "Ether / ARP is at 98:b0:8b:6a:43:7f says 192.168.44.1\n",
      "Ether / ARP who has 192.168.44.14 says 192.168.44.1\n",
      "Ether / ARP is at ac:50:de:60:24:b0 says 192.168.44.14\n"
     ]
    },
    {
     "data": {
      "text/plain": [
       "<Sniffed: TCP:0 UDP:0 ICMP:0 Other:0>"
      ]
     },
     "execution_count": 2,
     "metadata": {},
     "output_type": "execute_result"
    }
   ],
   "source": [
    "from scapy.all import sniff\n",
    "\n",
    "def process_packet(packet):\n",
    "    print(packet.summary())  # Replace with your ML model prediction code if needed\n",
    "\n",
    "# Replace 'Bluetooth Network Connection' with the actual interface name\n",
    "interface_name = \"Bluetooth Network Connection\"\n",
    "\n",
    "# Capture packets from the specified network interface\n",
    "sniff(iface=interface_name, prn=process_packet, store=False, timeout=600)\n"
   ]
  },
  {
   "cell_type": "code",
   "execution_count": null,
   "id": "0f698b86-b1b1-4c25-adf7-4e00bac94dc7",
   "metadata": {},
   "outputs": [],
   "source": []
  }
 ],
 "metadata": {
  "kernelspec": {
   "display_name": "Python 3 (ipykernel)",
   "language": "python",
   "name": "python3"
  },
  "language_info": {
   "codemirror_mode": {
    "name": "ipython",
    "version": 3
   },
   "file_extension": ".py",
   "mimetype": "text/x-python",
   "name": "python",
   "nbconvert_exporter": "python",
   "pygments_lexer": "ipython3",
   "version": "3.11.4"
  }
 },
 "nbformat": 4,
 "nbformat_minor": 5
}
